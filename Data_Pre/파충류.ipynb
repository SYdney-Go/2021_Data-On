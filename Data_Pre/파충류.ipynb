{
 "cells": [
  {
   "cell_type": "code",
   "execution_count": 1,
   "metadata": {},
   "outputs": [],
   "source": [
    "import pandas as pd\n",
    "\n",
    "# pd.read_excel(\"../dataset/2020국가생물종목록_v2.xlsx\", engine = 'openpyxl')\n",
    "xlsx = pd.read_excel(\"../dataset/2020국가생물종목록_v2.xlsx\", sheet_name=\"파충류\")\n",
    "xlsx.to_csv(\"../dataset/파충류.csv\")"
   ]
  },
  {
   "cell_type": "code",
   "execution_count": 2,
   "metadata": {},
   "outputs": [
    {
     "data": {
      "text/plain": [
       "0          국명\n",
       "1     대륙유혈목이속\n",
       "2       능구렁이속\n",
       "3          뱀속\n",
       "4          뱀속\n",
       "5          뱀속\n",
       "6         실뱀속\n",
       "7        무자치속\n",
       "8       줄꼬리뱀속\n",
       "9       유혈목이속\n",
       "10      비바리뱀속\n",
       "11     얼룩바다뱀속\n",
       "12     얼룩바다뱀속\n",
       "13       바다뱀속\n",
       "14     도마뱀부치속\n",
       "15     표범장지뱀속\n",
       "16       장지뱀속\n",
       "17       장지뱀속\n",
       "18     장수도마뱀속\n",
       "19       도마뱀속\n",
       "20       도마뱀속\n",
       "21       살모사속\n",
       "22       살모사속\n",
       "23       살모사속\n",
       "24      북살모사속\n",
       "25    붉은바다거북속\n",
       "26      바다거북속\n",
       "27        대모속\n",
       "28      장수거북속\n",
       "29     붉은귀거북속\n",
       "30       남생이속\n",
       "31        자라속\n",
       "32        자라속\n",
       "Name: Unnamed: 15, dtype: object"
      ]
     },
     "execution_count": 2,
     "metadata": {},
     "output_type": "execute_result"
    }
   ],
   "source": [
    "data = pd.read_csv(\"../dataset/파충류.csv\")\n",
    "pd.set_option('display.max_columns', None)\n",
    "data = data[\"Unnamed: 15\"]\n",
    "data"
   ]
  },
  {
   "cell_type": "code",
   "execution_count": 3,
   "metadata": {},
   "outputs": [
    {
     "data": {
      "text/plain": [
       "{'뱀속': 3,\n",
       " '살모사속': 3,\n",
       " '자라속': 2,\n",
       " '얼룩바다뱀속': 2,\n",
       " '도마뱀속': 2,\n",
       " '장지뱀속': 2,\n",
       " '장수도마뱀속': 1,\n",
       " '남생이속': 1,\n",
       " '붉은귀거북속': 1,\n",
       " '장수거북속': 1,\n",
       " '대모속': 1,\n",
       " '바다거북속': 1,\n",
       " '붉은바다거북속': 1,\n",
       " '북살모사속': 1,\n",
       " '국명': 1,\n",
       " '대륙유혈목이속': 1,\n",
       " '도마뱀부치속': 1,\n",
       " '바다뱀속': 1,\n",
       " '비바리뱀속': 1,\n",
       " '유혈목이속': 1,\n",
       " '줄꼬리뱀속': 1,\n",
       " '무자치속': 1,\n",
       " '실뱀속': 1,\n",
       " '능구렁이속': 1,\n",
       " '표범장지뱀속': 1}"
      ]
     },
     "execution_count": 3,
     "metadata": {},
     "output_type": "execute_result"
    }
   ],
   "source": [
    "count_list = data.value_counts()\n",
    "count_list = dict(count_list)\n",
    "count_list"
   ]
  },
  {
   "cell_type": "code",
   "execution_count": 21,
   "metadata": {},
   "outputs": [
    {
     "data": {
      "text/plain": [
       "<wordcloud.wordcloud.WordCloud at 0x7ff88e788100>"
      ]
     },
     "execution_count": 21,
     "metadata": {},
     "output_type": "execute_result"
    }
   ],
   "source": [
    "from wordcloud import WordCloud\n",
    "import numpy as np\n",
    "from PIL import Image\n",
    "import  cv2\n",
    "\n",
    "snake = np.array(Image.open('../dataset/snake2.png'))\n",
    "snake = cv2.resize(snake, (1500, 700))\n",
    "wc = WordCloud(font_path='../dataset/HS유지체.ttf',\n",
    "               mask = snake,\n",
    "               background_color = \"white\",\n",
    "               contour_width=0.1,\n",
    "               contour_color='gray',\n",
    "               colormap = \"ocean\")\n",
    "\n",
    "wc.generate_from_frequencies(count_list)\n",
    "wc.to_file('./picture/snake.png')"
   ]
  },
  {
   "cell_type": "code",
   "execution_count": 16,
   "metadata": {},
   "outputs": [
    {
     "data": {
      "text/plain": [
       "(1090, 2179, 4)"
      ]
     },
     "execution_count": 16,
     "metadata": {},
     "output_type": "execute_result"
    }
   ],
   "source": [
    "snake.shape"
   ]
  },
  {
   "cell_type": "code",
   "execution_count": null,
   "metadata": {},
   "outputs": [],
   "source": []
  }
 ],
 "metadata": {
  "interpreter": {
   "hash": "c295ab7a0741ab07fbe3a73015a9e83a7f4e0ffc33dd89a378044b43bce20567"
  },
  "kernelspec": {
   "display_name": "Python 3.8.10 64-bit ('DataOn_venv': venv)",
   "name": "python3"
  },
  "language_info": {
   "codemirror_mode": {
    "name": "ipython",
    "version": 3
   },
   "file_extension": ".py",
   "mimetype": "text/x-python",
   "name": "python",
   "nbconvert_exporter": "python",
   "pygments_lexer": "ipython3",
   "version": "3.8.10"
  },
  "orig_nbformat": 4
 },
 "nbformat": 4,
 "nbformat_minor": 2
}
