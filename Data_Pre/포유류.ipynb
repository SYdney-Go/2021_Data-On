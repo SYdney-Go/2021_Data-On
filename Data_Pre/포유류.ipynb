{
 "cells": [
  {
   "cell_type": "code",
   "execution_count": 4,
   "metadata": {},
   "outputs": [],
   "source": [
    "import pandas as pd\n",
    "\n",
    "# pd.read_excel(\"../dataset/2020국가생물종목록_v2.xlsx\", engine = 'openpyxl')\n",
    "xlsx = pd.read_excel(\"../dataset/2020국가생물종목록_v2.xlsx\", sheet_name=\"포유류\")\n",
    "xlsx.to_csv(\"../dataset/포유류.csv\")"
   ]
  },
  {
   "cell_type": "code",
   "execution_count": 5,
   "metadata": {},
   "outputs": [],
   "source": [
    "data = pd.read_csv(\"../dataset/포유류.csv\")\n",
    "pd.set_option('display.max_columns', None)\n",
    "data = data[\"Unnamed: 15\"]"
   ]
  },
  {
   "cell_type": "code",
   "execution_count": 6,
   "metadata": {},
   "outputs": [
    {
     "data": {
      "text/plain": [
       "{'큰수염박쥐속': 8,\n",
       " '첨서속': 6,\n",
       " '수염고래속': 5,\n",
       " '이빨부리고래속': 3,\n",
       " '등줄쥐속': 3,\n",
       " '점박이돌고래속': 3,\n",
       " '족제비속': 3,\n",
       " '담비속': 3,\n",
       " '관코박쥐속': 2,\n",
       " '땃쥐속': 2,\n",
       " '돌고래속': 2,\n",
       " '애기박쥐속': 2,\n",
       " '사슴속': 2,\n",
       " '대륙밭쥐속': 2,\n",
       " '곰속': 2,\n",
       " '집박쥐속': 2,\n",
       " '멧박쥐속': 2,\n",
       " '꼬마향고래속': 2,\n",
       " '토끼속': 2,\n",
       " '긴가락박쥐속': 2,\n",
       " '큰돌고래속': 2,\n",
       " '표범속': 2,\n",
       " '집쥐속': 2,\n",
       " '문둥이박쥐속': 2,\n",
       " '관박쥐속': 1,\n",
       " '민부리고래속': 1,\n",
       " '고슴도치속': 1,\n",
       " '토끼박쥐속': 1,\n",
       " '검은집박쥐속': 1,\n",
       " '큰귀박쥐속': 1,\n",
       " '국명': 1,\n",
       " '우는토끼속': 1,\n",
       " '큰부리고래속': 1,\n",
       " '쇠갈밭쥐속': 1,\n",
       " '갈밭쥐속': 1,\n",
       " '숲들쥐속': 1,\n",
       " '사향쥐속': 1,\n",
       " '비단털쥐속': 1,\n",
       " '멧밭쥐속': 1,\n",
       " '생쥐속': 1,\n",
       " '물쥐속': 1,\n",
       " '다람쥐과': 1,\n",
       " '하늘다람쥐속': 1,\n",
       " '청설모속': 1,\n",
       " '뛰는쥐속': 1,\n",
       " '갯첨서속': 1,\n",
       " '비단털등줄쥐속': 1,\n",
       " '쇠물돼지속': 1,\n",
       " '말향고래속': 1,\n",
       " '작은곱등어속': 1,\n",
       " '바다사자속': 1,\n",
       " '큰바다사자속': 1,\n",
       " '물개속': 1,\n",
       " '오소리속': 1,\n",
       " '수달속': 1,\n",
       " '삵속': 1,\n",
       " '스라소니속': 1,\n",
       " '여우속': 1,\n",
       " '너구리속': 1,\n",
       " '승냥이속': 1,\n",
       " '개속': 1,\n",
       " '멧돼지속': 1,\n",
       " '사향노루속': 1,\n",
       " '고라니속': 1,\n",
       " '노루속': 1,\n",
       " '흰띠박이물범속': 1,\n",
       " '물범속': 1,\n",
       " '고리무늬물범속': 1,\n",
       " '고양이고래속': 1,\n",
       " '쇠돌고래속': 1,\n",
       " '산양속': 1,\n",
       " '흰돌고래속': 1,\n",
       " '쇠고래속': 1,\n",
       " '뱀머리돌고래속': 1,\n",
       " '흑범고래속': 1,\n",
       " '범고래속': 1,\n",
       " '북방긴수염고래속': 1,\n",
       " '고추돌고래속': 1,\n",
       " '낫돌고래속': 1,\n",
       " '큰머리돌고래속': 1,\n",
       " '들쇠고래속': 1,\n",
       " '들고양이고래속': 1,\n",
       " '혹등고래속': 1,\n",
       " '아시아두더지속': 1}"
      ]
     },
     "execution_count": 6,
     "metadata": {},
     "output_type": "execute_result"
    }
   ],
   "source": [
    "count_list = data.value_counts()\n",
    "count_list = dict(count_list)\n",
    "count_list"
   ]
  },
  {
   "cell_type": "code",
   "execution_count": 9,
   "metadata": {},
   "outputs": [
    {
     "data": {
      "text/plain": [
       "<wordcloud.wordcloud.WordCloud at 0x7f0fc0fd4970>"
      ]
     },
     "execution_count": 9,
     "metadata": {},
     "output_type": "execute_result"
    }
   ],
   "source": [
    "from wordcloud import WordCloud\n",
    "import numpy as np\n",
    "from PIL import Image\n",
    "\n",
    "bat = np.array(Image.open('../dataset/bat4.png'))\n",
    "\n",
    "wc = WordCloud(font_path='../dataset/HS유지체.ttf',\n",
    "               mask = bat,\n",
    "               background_color = \"white\",\n",
    "               contour_width=0.1,\n",
    "               contour_color='gray',\n",
    "               colormap = \"bone\")\n",
    "\n",
    "wc.generate_from_frequencies(count_list)\n",
    "wc.to_file('./picture/bat_p.png')"
   ]
  },
  {
   "cell_type": "code",
   "execution_count": null,
   "metadata": {},
   "outputs": [],
   "source": []
  },
  {
   "cell_type": "code",
   "execution_count": null,
   "metadata": {},
   "outputs": [],
   "source": []
  }
 ],
 "metadata": {
  "interpreter": {
   "hash": "c295ab7a0741ab07fbe3a73015a9e83a7f4e0ffc33dd89a378044b43bce20567"
  },
  "kernelspec": {
   "display_name": "Python 3.8.10 64-bit ('DataOn_venv': venv)",
   "name": "python3"
  },
  "language_info": {
   "codemirror_mode": {
    "name": "ipython",
    "version": 3
   },
   "file_extension": ".py",
   "mimetype": "text/x-python",
   "name": "python",
   "nbconvert_exporter": "python",
   "pygments_lexer": "ipython3",
   "version": "3.8.10"
  },
  "orig_nbformat": 4
 },
 "nbformat": 4,
 "nbformat_minor": 2
}
