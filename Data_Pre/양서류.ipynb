{
 "cells": [
  {
   "cell_type": "code",
   "execution_count": 1,
   "metadata": {},
   "outputs": [],
   "source": [
    "import pandas as pd\n",
    "\n",
    "# pd.read_excel(\"../dataset/2020국가생물종목록_v2.xlsx\", engine = 'openpyxl')\n",
    "xlsx = pd.read_excel(\"../dataset/2020국가생물종목록_v2.xlsx\", sheet_name=\"양서류\")\n",
    "xlsx.to_csv(\"../dataset/양서류.csv\")"
   ]
  },
  {
   "cell_type": "code",
   "execution_count": 2,
   "metadata": {},
   "outputs": [
    {
     "data": {
      "text/plain": [
       "0           국명\n",
       "1       무당개구리속\n",
       "2         두꺼비속\n",
       "3         두꺼비속\n",
       "4         두꺼비속\n",
       "5          NaN\n",
       "6          NaN\n",
       "7          NaN\n",
       "8         맹꽁이속\n",
       "9        옴개구리속\n",
       "10      황소개구리속\n",
       "11      연못개구리속\n",
       "12      연못개구리속\n",
       "13        개구리속\n",
       "14        개구리속\n",
       "15        개구리속\n",
       "16        도롱뇽속\n",
       "17        도롱뇽속\n",
       "18        도롱뇽속\n",
       "19        도롱뇽속\n",
       "20    꼬리치레도롱뇽속\n",
       "21    네발가락도롱뇽속\n",
       "22      이끼도롱뇽속\n",
       "Name: Unnamed: 15, dtype: object"
      ]
     },
     "execution_count": 2,
     "metadata": {},
     "output_type": "execute_result"
    }
   ],
   "source": [
    "data = pd.read_csv(\"../dataset/양서류.csv\")\n",
    "pd.set_option('display.max_columns', None)\n",
    "data = data[\"Unnamed: 15\"]\n",
    "data"
   ]
  },
  {
   "cell_type": "code",
   "execution_count": 3,
   "metadata": {},
   "outputs": [
    {
     "data": {
      "text/plain": [
       "{'도롱뇽속': 4,\n",
       " '두꺼비속': 3,\n",
       " '개구리속': 3,\n",
       " '연못개구리속': 2,\n",
       " '국명': 1,\n",
       " '무당개구리속': 1,\n",
       " '맹꽁이속': 1,\n",
       " '옴개구리속': 1,\n",
       " '황소개구리속': 1,\n",
       " '꼬리치레도롱뇽속': 1,\n",
       " '네발가락도롱뇽속': 1,\n",
       " '이끼도롱뇽속': 1}"
      ]
     },
     "execution_count": 3,
     "metadata": {},
     "output_type": "execute_result"
    }
   ],
   "source": [
    "count_list = data.value_counts()\n",
    "count_list = dict(count_list)\n",
    "count_list\n"
   ]
  },
  {
   "cell_type": "code",
   "execution_count": 5,
   "metadata": {},
   "outputs": [
    {
     "data": {
      "text/plain": [
       "<wordcloud.wordcloud.WordCloud at 0x7f268f0fd790>"
      ]
     },
     "execution_count": 5,
     "metadata": {},
     "output_type": "execute_result"
    }
   ],
   "source": [
    "from wordcloud import WordCloud\n",
    "import numpy as np\n",
    "from PIL import Image\n",
    "\n",
    "frog = np.array(Image.open('../dataset/frog.png'))\n",
    "\n",
    "wc = WordCloud(font_path='../dataset/HS유지체.ttf',\n",
    "               mask = frog,\n",
    "               background_color = \"white\",\n",
    "               contour_width=0.1,\n",
    "               contour_color='gray',\n",
    "               colormap = \"summer\")\n",
    "\n",
    "wc.generate_from_frequencies(count_list)\n",
    "wc.to_file('./picture/frog.png')"
   ]
  },
  {
   "cell_type": "code",
   "execution_count": null,
   "metadata": {},
   "outputs": [],
   "source": []
  }
 ],
 "metadata": {
  "interpreter": {
   "hash": "c295ab7a0741ab07fbe3a73015a9e83a7f4e0ffc33dd89a378044b43bce20567"
  },
  "kernelspec": {
   "display_name": "Python 3.8.10 64-bit ('DataOn_venv': venv)",
   "name": "python3"
  },
  "language_info": {
   "codemirror_mode": {
    "name": "ipython",
    "version": 3
   },
   "file_extension": ".py",
   "mimetype": "text/x-python",
   "name": "python",
   "nbconvert_exporter": "python",
   "pygments_lexer": "ipython3",
   "version": "3.8.10"
  },
  "orig_nbformat": 4
 },
 "nbformat": 4,
 "nbformat_minor": 2
}
