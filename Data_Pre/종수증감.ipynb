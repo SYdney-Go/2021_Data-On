{
 "cells": [
  {
   "cell_type": "code",
   "execution_count": 1,
   "metadata": {},
   "outputs": [],
   "source": [
    "import pandas as pd"
   ]
  },
  {
   "cell_type": "code",
   "execution_count": 2,
   "metadata": {},
   "outputs": [
    {
     "data": {
      "text/html": [
       "<div>\n",
       "<style scoped>\n",
       "    .dataframe tbody tr th:only-of-type {\n",
       "        vertical-align: middle;\n",
       "    }\n",
       "\n",
       "    .dataframe tbody tr th {\n",
       "        vertical-align: top;\n",
       "    }\n",
       "\n",
       "    .dataframe thead th {\n",
       "        text-align: right;\n",
       "    }\n",
       "</style>\n",
       "<table border=\"1\" class=\"dataframe\">\n",
       "  <thead>\n",
       "    <tr style=\"text-align: right;\">\n",
       "      <th></th>\n",
       "      <th>년도</th>\n",
       "      <th>계</th>\n",
       "      <th>척추동물</th>\n",
       "      <th>곤충</th>\n",
       "      <th>무척추동물(곤충제외)</th>\n",
       "      <th>식물</th>\n",
       "      <th>균류/지의류</th>\n",
       "      <th>원생생물</th>\n",
       "      <th>조류(algae)</th>\n",
       "      <th>원핵생물(남조류,박테리아)</th>\n",
       "    </tr>\n",
       "  </thead>\n",
       "  <tbody>\n",
       "    <tr>\n",
       "      <th>1</th>\n",
       "      <td>2011</td>\n",
       "      <td>38011</td>\n",
       "      <td>1884</td>\n",
       "      <td>13734</td>\n",
       "      <td>6167</td>\n",
       "      <td>5241</td>\n",
       "      <td>4103</td>\n",
       "      <td>1374</td>\n",
       "      <td>4652</td>\n",
       "      <td>856</td>\n",
       "    </tr>\n",
       "    <tr>\n",
       "      <th>2</th>\n",
       "      <td>2012</td>\n",
       "      <td>39150</td>\n",
       "      <td>1889</td>\n",
       "      <td>14145</td>\n",
       "      <td>6468</td>\n",
       "      <td>5281</td>\n",
       "      <td>4113</td>\n",
       "      <td>1573</td>\n",
       "      <td>4672</td>\n",
       "      <td>1009</td>\n",
       "    </tr>\n",
       "    <tr>\n",
       "      <th>3</th>\n",
       "      <td>2013</td>\n",
       "      <td>41483</td>\n",
       "      <td>1899</td>\n",
       "      <td>15651</td>\n",
       "      <td>6961</td>\n",
       "      <td>5308</td>\n",
       "      <td>4153</td>\n",
       "      <td>1573</td>\n",
       "      <td>4879</td>\n",
       "      <td>1059</td>\n",
       "    </tr>\n",
       "    <tr>\n",
       "      <th>4</th>\n",
       "      <td>2014</td>\n",
       "      <td>42756</td>\n",
       "      <td>1933</td>\n",
       "      <td>16121</td>\n",
       "      <td>7396</td>\n",
       "      <td>5328</td>\n",
       "      <td>4357</td>\n",
       "      <td>1573</td>\n",
       "      <td>4879</td>\n",
       "      <td>1169</td>\n",
       "    </tr>\n",
       "    <tr>\n",
       "      <th>5</th>\n",
       "      <td>2015</td>\n",
       "      <td>45295</td>\n",
       "      <td>1961</td>\n",
       "      <td>16447</td>\n",
       "      <td>8167</td>\n",
       "      <td>5349</td>\n",
       "      <td>4686</td>\n",
       "      <td>1591</td>\n",
       "      <td>5725</td>\n",
       "      <td>1369</td>\n",
       "    </tr>\n",
       "    <tr>\n",
       "      <th>6</th>\n",
       "      <td>2016</td>\n",
       "      <td>47003</td>\n",
       "      <td>1971</td>\n",
       "      <td>16993</td>\n",
       "      <td>8504</td>\n",
       "      <td>5379</td>\n",
       "      <td>4840</td>\n",
       "      <td>1750</td>\n",
       "      <td>5857</td>\n",
       "      <td>1709</td>\n",
       "    </tr>\n",
       "    <tr>\n",
       "      <th>7</th>\n",
       "      <td>2017</td>\n",
       "      <td>49027</td>\n",
       "      <td>1984</td>\n",
       "      <td>17593</td>\n",
       "      <td>9062</td>\n",
       "      <td>5443</td>\n",
       "      <td>5056</td>\n",
       "      <td>1890</td>\n",
       "      <td>5920</td>\n",
       "      <td>2079</td>\n",
       "    </tr>\n",
       "    <tr>\n",
       "      <th>8</th>\n",
       "      <td>2018</td>\n",
       "      <td>50827</td>\n",
       "      <td>1995</td>\n",
       "      <td>18158</td>\n",
       "      <td>9525</td>\n",
       "      <td>5477</td>\n",
       "      <td>5226</td>\n",
       "      <td>1984</td>\n",
       "      <td>6013</td>\n",
       "      <td>2449</td>\n",
       "    </tr>\n",
       "    <tr>\n",
       "      <th>9</th>\n",
       "      <td>2019</td>\n",
       "      <td>52628</td>\n",
       "      <td>2009</td>\n",
       "      <td>18638</td>\n",
       "      <td>10028</td>\n",
       "      <td>5517</td>\n",
       "      <td>5421</td>\n",
       "      <td>2018</td>\n",
       "      <td>6158</td>\n",
       "      <td>2839</td>\n",
       "    </tr>\n",
       "    <tr>\n",
       "      <th>10</th>\n",
       "      <td>2020</td>\n",
       "      <td>54428</td>\n",
       "      <td>2027</td>\n",
       "      <td>19250</td>\n",
       "      <td>10187</td>\n",
       "      <td>5557</td>\n",
       "      <td>5616</td>\n",
       "      <td>2259</td>\n",
       "      <td>6303</td>\n",
       "      <td>3229</td>\n",
       "    </tr>\n",
       "  </tbody>\n",
       "</table>\n",
       "</div>"
      ],
      "text/plain": [
       "0     년도      계  척추동물     곤충  무척추동물(곤충제외)    식물  균류/지의류  원생생물  조류(algae)  \\\n",
       "1   2011  38011  1884  13734         6167  5241    4103  1374       4652   \n",
       "2   2012  39150  1889  14145         6468  5281    4113  1573       4672   \n",
       "3   2013  41483  1899  15651         6961  5308    4153  1573       4879   \n",
       "4   2014  42756  1933  16121         7396  5328    4357  1573       4879   \n",
       "5   2015  45295  1961  16447         8167  5349    4686  1591       5725   \n",
       "6   2016  47003  1971  16993         8504  5379    4840  1750       5857   \n",
       "7   2017  49027  1984  17593         9062  5443    5056  1890       5920   \n",
       "8   2018  50827  1995  18158         9525  5477    5226  1984       6013   \n",
       "9   2019  52628  2009  18638        10028  5517    5421  2018       6158   \n",
       "10  2020  54428  2027  19250        10187  5557    5616  2259       6303   \n",
       "\n",
       "0   원핵생물(남조류,박테리아)  \n",
       "1              856  \n",
       "2             1009  \n",
       "3             1059  \n",
       "4             1169  \n",
       "5             1369  \n",
       "6             1709  \n",
       "7             2079  \n",
       "8             2449  \n",
       "9             2839  \n",
       "10            3229  "
      ]
     },
     "execution_count": 2,
     "metadata": {},
     "output_type": "execute_result"
    }
   ],
   "source": [
    "data = pd.read_csv(\"../dataset/종수증감.csv\", index_col = 0, header = None)\n",
    "data = data.transpose()\n",
    "data"
   ]
  },
  {
   "cell_type": "code",
   "execution_count": 3,
   "metadata": {},
   "outputs": [
    {
     "data": {
      "image/png": "[encoded data removed]",
      "text/plain": [
       "<Figure size 1080x360 with 1 Axes>"
      ]
     },
     "metadata": {
      "needs_background": "light"
     },
     "output_type": "display_data"
    }
   ],
   "source": [
    "import matplotlib.pyplot as plt\n",
    "import numpy as np\n",
    "import matplotlib.font_manager as fm\n",
    "\n",
    "path = '../../../../../usr/share/fonts/truetype/nanum/NanumBarunGothic.ttf'\n",
    "prop_legend = fm.FontProperties(fname=path, size=10)\n",
    "\n",
    "path = '../../../../../usr/share/fonts/truetype/nanum/NanumBarunGothic.ttf'\n",
    "prop = fm.FontProperties(fname=path, size=16)\n",
    "\n",
    "path = '../../../../../usr/share/fonts/truetype/nanum/NanumBarunGothic.ttf'\n",
    "prop_title = fm.FontProperties(fname=path, size=20)\n",
    "\n",
    "plt.figure(figsize=(15,5))\n",
    "\n",
    "# plt.plot(data[\"년도\"], data[\"계\"], marker = 'o', label=\"총합\", color=\"royalblue\")\n",
    "plt.bar(data[\"년도\"]-0.3, data[\"척추동물\"], width=0.07, label=\"척추동물\", color=\"limegreen\")\n",
    "plt.bar(data[\"년도\"]-0.2, data[\"곤충\"], width=0.07, label=\"곤충\", color=\"mediumseagreen\")\n",
    "plt.bar(data[\"년도\"]-0.1, data[\"무척추동물(곤충제외)\"], width=0.07, label=\"무척추동물\", color=\"forestgreen\")\n",
    "plt.bar(data[\"년도\"]+0, data[\"식물\"], width=0.07, label=\"식물\", color=\"darkgreen\")\n",
    "plt.bar(data[\"년도\"]+0.1, data[\"균류/지의류\"], width=0.07, label=\"균류/지의류\", color=\"indigo\")\n",
    "plt.bar(data[\"년도\"]+0.2, data[\"원생생물\"], width=0.07, label=\"원생생물\", color=\"darkslateblue\")\n",
    "plt.bar(data[\"년도\"]+0.3, data[\"조류(algae)\"], width=0.07, label=\"조류(algae)\", color=\"mediumpurple\")\n",
    "plt.bar(data[\"년도\"]+0.4, data[\"원핵생물(남조류,박테리아)\"], width=0.07, label=\"원핵생물\", color=\"darkviolet\")\n",
    "\n",
    "\n",
    "plt.legend(bbox_to_anchor=(1.04,0.5),loc=\"center left\", prop=prop_legend)\n",
    "plt.xticks(data[\"년도\"],fontproperties=prop_legend)\n",
    "plt.yticks(fontproperties=prop_legend)\n",
    "plt.xlabel(\"년도\", fontproperties=prop)\n",
    "plt.ylabel(\"종 수\", fontproperties=prop)\n",
    "plt.rcParams['xtick.labelsize'] = 15\n",
    "plt.rcParams['ytick.labelsize'] = 15\n",
    "plt.rcParams['axes.labelsize'] = 15\n",
    "plt.title(\"분류군별 국가생물종목록\", pad=10, fontproperties=prop_title)\n",
    "\n",
    "plt.savefig('./picture/국가생물종목록.jpg')\n"
   ]
  },
  {
   "cell_type": "code",
   "execution_count": 4,
   "metadata": {},
   "outputs": [
    {
     "data": {
      "image/png": "[encoded data removed]",
      "text/plain": [
       "<Figure size 576x432 with 1 Axes>"
      ]
     },
     "metadata": {
      "needs_background": "light"
     },
     "output_type": "display_data"
    }
   ],
   "source": [
    "plt.figure(figsize=(8, 6))\n",
    "plt.plot(data[\"년도\"], data[\"계\"], marker = 'o', label=\"총합\", color=\"royalblue\")\n",
    "plt.legend(bbox_to_anchor=(1.04,0.5),loc=\"center left\", prop=prop_legend)\n",
    "plt.xticks(data[\"년도\"],fontproperties=prop_legend)\n",
    "plt.xlabel(\"년도\", fontproperties=prop)\n",
    "plt.ylabel(\"종 수\", fontproperties=prop)\n",
    "plt.title(\"국가생물종목록 증가추세\", pad=10, fontproperties=prop_title)\n",
    "\n",
    "plt.rcParams['xtick.labelsize'] = 15\n",
    "plt.rcParams['ytick.labelsize'] = 10\n",
    "plt.rcParams['axes.labelsize'] = 5\n",
    "\n",
    "for x, y in zip(data[\"년도\"], data[\"계\"]):\n",
    "    label = y\n",
    "    plt.annotate(label, (x, y), textcoords=\"offset points\", xytext=(0,3), ha=\"center\")"
   ]
  },
  {
   "cell_type": "markdown",
   "metadata": {},
   "source": [
    "# 이미지 데이터\n",
    "### 국립생물자원관\n",
    "* 영상으로 보는 생물 - 673종\n",
    "* 생물 다양성 백과사전 - 1230종\n",
    "### Dataon\n",
    "* 환형동물 DB\n",
    "* 곤충 나비목 DB\n",
    "* 고등균류 DB\n",
    "* 곤충 맵시벌과 DB\n",
    "* 수생관속식물 DB\n",
    "* 담수어류 DB\n",
    "\n",
    "---\n",
    "이미지 데이터 부족으로 추가 필요!\n",
    "\n",
    "### 국립 수목원의 국가생물종지식 정보시스템의 개방 목록\n",
    "* 식물도감 4795종\n",
    "* 곤충, 내구강종 10178 종\n",
    "* 버섯도감 815종\n",
    "* 지의류도감 286 종\n",
    "* 조류, 포유류 264종\n",
    "특히 개방 목록의 존재!\n"
   ]
  },
  {
   "cell_type": "markdown",
   "metadata": {},
   "source": [
    "https://cdn3.vectorstock.com/i/1000x1000/75/62/cartoon-kawaii-eyes-and-mouths-cute-emoticon-vector-18717562.jpg"
   ]
  },
  {
   "cell_type": "code",
   "execution_count": 5,
   "metadata": {},
   "outputs": [
    {
     "ename": "SyntaxError",
     "evalue": "invalid syntax (2147854312.py, line 1)",
     "output_type": "error",
     "traceback": [
      "\u001b[0;36m  File \u001b[0;32m\"/tmp/ipykernel_82631/2147854312.py\"\u001b[0;36m, line \u001b[0;32m1\u001b[0m\n\u001b[0;31m    image =\u001b[0m\n\u001b[0m            ^\u001b[0m\n\u001b[0;31mSyntaxError\u001b[0m\u001b[0;31m:\u001b[0m invalid syntax\n"
     ]
    }
   ],
   "source": [
    "image = "
   ]
  },
  {
   "cell_type": "code",
   "execution_count": null,
   "metadata": {},
   "outputs": [
    {
     "ename": "SyntaxError",
     "evalue": "invalid syntax (910140051.py, line 1)",
     "output_type": "error",
     "traceback": [
      "\u001b[0;36m  File \u001b[0;32m\"/tmp/ipykernel_4519/910140051.py\"\u001b[0;36m, line \u001b[0;32m1\u001b[0m\n\u001b[0;31m    친숙한 데이터 = 활용할 데이터 보여줄까 말까\u001b[0m\n\u001b[0m        ^\u001b[0m\n\u001b[0;31mSyntaxError\u001b[0m\u001b[0;31m:\u001b[0m invalid syntax\n"
     ]
    }
   ],
   "source": [
    "친숙한 데이터 = 활용할 데이터 보여줄까 말까\n",
    "각 홈페이지별 파일 종류... 알아보자\n",
    "\n",
    "올려져있는 데이터가 어떤 데이터인지 보여주고\n",
    "데이터 분석 = 어떤 데이터를 어떻게 사용했는지\n",
    "이미지 url + \n",
    "이미지 전\n",
    "\n",
    "기술구현(VM + Unity부분으로 나눠서 진행?)\n",
    "- 데이터 전처리 (csv)\n",
    "- 이미지 데이터 전처리\n",
    "- 인공지능 모델??\n",
    "- 게임(+a)"
   ]
  },
  {
   "cell_type": "code",
   "execution_count": null,
   "metadata": {},
   "outputs": [],
   "source": []
  },
  {
   "cell_type": "code",
   "execution_count": null,
   "metadata": {},
   "outputs": [],
   "source": []
  },
  {
   "cell_type": "code",
   "execution_count": null,
   "metadata": {},
   "outputs": [],
   "source": []
  }
 ],
 "metadata": {
  "interpreter": {
   "hash": "c295ab7a0741ab07fbe3a73015a9e83a7f4e0ffc33dd89a378044b43bce20567"
  },
  "kernelspec": {
   "display_name": "Python 3.8.10 64-bit ('DataOn_venv': venv)",
   "name": "python3"
  },
  "language_info": {
   "codemirror_mode": {
    "name": "ipython",
    "version": 3
   },
   "file_extension": ".py",
   "mimetype": "text/x-python",
   "name": "python",
   "nbconvert_exporter": "python",
   "pygments_lexer": "ipython3",
   "version": "3.8.10"
  },
  "orig_nbformat": 4
 },
 "nbformat": 4,
 "nbformat_minor": 2
}
