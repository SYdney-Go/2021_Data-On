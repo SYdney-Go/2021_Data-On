{
 "cells": [
  {
   "cell_type": "code",
   "execution_count": 1,
   "metadata": {},
   "outputs": [],
   "source": [
    "import pandas as pd\n",
    "\n",
    "# pd.read_excel(\"../dataset/2020국가생물종목록_v2.xlsx\", engine = 'openpyxl')\n",
    "xlsx = pd.read_excel(\"../dataset/2020국가생물종목록_v2.xlsx\", sheet_name=\"미삭동물\")\n",
    "xlsx.to_csv(\"../dataset/미삭동물.csv\")"
   ]
  },
  {
   "cell_type": "code",
   "execution_count": 4,
   "metadata": {},
   "outputs": [
    {
     "data": {
      "text/plain": [
       "0          국명\n",
       "1         패모속\n",
       "2         패모속\n",
       "3         패모속\n",
       "4         NaN\n",
       "        ...  \n",
       "125    탈리아살파속\n",
       "126    탈리아살파속\n",
       "127       NaN\n",
       "128     촉수살파속\n",
       "129    윌리아살파속\n",
       "Name: Unnamed: 15, Length: 130, dtype: object"
      ]
     },
     "execution_count": 4,
     "metadata": {},
     "output_type": "execute_result"
    }
   ],
   "source": [
    "data = pd.read_csv(\"../dataset/미삭동물.csv\")\n",
    "pd.set_option('display.max_columns', None)\n",
    "data = data[\"Unnamed: 15\"]\n",
    "data"
   ]
  },
  {
   "cell_type": "code",
   "execution_count": 5,
   "metadata": {},
   "outputs": [
    {
     "data": {
      "text/plain": [
       "{'대추멍게속': 6,\n",
       " '흰덩이멍게속': 6,\n",
       " '멍게속': 6,\n",
       " '미더덕속': 6,\n",
       " '피우라속': 5,\n",
       " '탈리아살파속': 5,\n",
       " '곧은장살파속': 4,\n",
       " '판멍게속': 4,\n",
       " '새공멍게속': 4,\n",
       " '크네미도칼파속': 3,\n",
       " '벼개멍게속': 3,\n",
       " '침멍게속': 3,\n",
       " '패모속': 3,\n",
       " '거북등안장멍게속': 3,\n",
       " '가죽빛멍게속': 3,\n",
       " '이유디스토마속': 3,\n",
       " '곤봉멍게속': 3,\n",
       " '살파속': 3,\n",
       " '보라판멍게속': 2,\n",
       " '폴리조아속': 2,\n",
       " '얼룩무늬멍게속': 2,\n",
       " '리테리엘라살파속': 2,\n",
       " '공생만두멍게속': 2,\n",
       " '가위살파속': 2,\n",
       " '버섯유령멍게속': 2,\n",
       " '회색만두멍게속': 2,\n",
       " '바다술통사촌속': 2,\n",
       " '바다술통속': 2,\n",
       " '점멍게속': 2,\n",
       " '짝구슬미더덕속': 1,\n",
       " '굵은띠살파속': 1,\n",
       " '고리살파속': 1,\n",
       " '촉수살파속': 1,\n",
       " '국명': 1,\n",
       " '진미더덕속': 1,\n",
       " '가지멍게속': 1,\n",
       " '우주멍게속': 1,\n",
       " '주머니멍게속': 1,\n",
       " '민조름버섯유령멍게속': 1,\n",
       " '안장멍게속': 1,\n",
       " '유령멍게속': 1,\n",
       " '딸기만두멍게속': 1,\n",
       " '모래무치만두멍게속': 1,\n",
       " '만두멍게속': 1,\n",
       " '수포곤봉멍게속': 1,\n",
       " '시코조아속': 1,\n",
       " '청색곤봉멍게속': 1,\n",
       " '세줄흰덩이멍게속': 1,\n",
       " '이중멍게속': 1,\n",
       " '윌리아살파속': 1}"
      ]
     },
     "execution_count": 5,
     "metadata": {},
     "output_type": "execute_result"
    }
   ],
   "source": [
    "count_list = data.value_counts()\n",
    "count_list = dict(count_list)\n",
    "count_list"
   ]
  },
  {
   "cell_type": "code",
   "execution_count": null,
   "metadata": {},
   "outputs": [],
   "source": []
  }
 ],
 "metadata": {
  "interpreter": {
   "hash": "c295ab7a0741ab07fbe3a73015a9e83a7f4e0ffc33dd89a378044b43bce20567"
  },
  "kernelspec": {
   "display_name": "Python 3.8.10 64-bit ('DataOn_venv': venv)",
   "name": "python3"
  },
  "language_info": {
   "codemirror_mode": {
    "name": "ipython",
    "version": 3
   },
   "file_extension": ".py",
   "mimetype": "text/x-python",
   "name": "python",
   "nbconvert_exporter": "python",
   "pygments_lexer": "ipython3",
   "version": "3.8.10"
  },
  "orig_nbformat": 4
 },
 "nbformat": 4,
 "nbformat_minor": 2
}
